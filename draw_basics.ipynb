{
 "cells": [
  {
   "cell_type": "code",
   "execution_count": null,
   "id": "36c79ade",
   "metadata": {},
   "outputs": [],
   "source": [
    "import pandas as pd\n",
    "import seaborn as sns\n",
    "import matplotlib.pyplot as plt\n",
    "import warnings\n",
    "import numpy as np\n",
    "from tqdm import tqdm\n",
    "\n",
    "warnings.simplefilter(action=\"ignore\")\n",
    "\n",
    "\n",
    "def filter_ones(data):\n",
    "    return data.WEFAC == 1\n",
    "\n",
    "\n",
    "def filter_more_than_zero(data):\n",
    "    return data.WEFAC > 0\n",
    "\n",
    "\n",
    "def filter_all(data):\n",
    "    return data.WEFAC >= 0\n",
    "\n",
    "\n",
    "def filter_zeros(data):\n",
    "    return data.WEFAC == 0\n",
    "\n",
    "\n",
    "columns = [\"WWPR\", \"WOPR\", \"WGPR\", \"WGIR\", \"WWIR\", \"WBHP\", \"WTHP\"]\n",
    "\n",
    "\n",
    "def draw_scaled(data, well):\n",
    "    columns = [\"WWPR\", \"WOPR\", \"WGPR\", \"WBHP\", \"WTHP\", \"WGIR\", \"WWIR\"]\n",
    "\n",
    "    filters = [filter_ones, filter_more_than_zero, filter_all, filter_zeros]\n",
    "    filter_names = [\"WEFAC==1\", \"WEFAC>0\", \"WEFAC>=0\", \"WEFAC==0\"]\n",
    "    sns.set(rc={\"figure.figsize\": (12, 30)})\n",
    "    sns.set_theme(style=\"whitegrid\")\n",
    "    fig, axs = plt.subplots(nrows=4, ncols=1)\n",
    "    for i, (filt, filt_name) in enumerate(zip(filters, filter_names)):\n",
    "        cur_data = data[(data.WELL == well) & filt(data)].fillna(0)\n",
    "        for c in columns:\n",
    "            cur_data[c] = cur_data[c] / cur_data[columns].max()[c]\n",
    "        cur_data = cur_data.fillna(0).reset_index()[columns + [\"DATE\"]]\n",
    "\n",
    "        for c in columns:\n",
    "            ax = sns.scatterplot(cur_data, x=\"DATE\", y=c, label=c, ax=axs[i])\n",
    "            sns.lineplot(cur_data, x=\"DATE\", y=c, label=c, ax=axs[i])\n",
    "        plt.legend()\n",
    "        ax.set(xlabel=f\"DATE\", ylabel=f\"Scaled params\")\n",
    "        ax.title.set_text(filt_name)\n",
    "    plt.savefig(f\"images/merged_scaled_{well}.jpg\")\n",
    "    plt.clf()\n",
    "\n",
    "\n",
    "def draw_sub(data, well, name_prefix=\"\"):\n",
    "    columns = [\"WWPR\", \"WOPR\", \"WGPR\", \"WGIR\", \"WWIR\", \"WBHP\", \"WTHP\"]\n",
    "\n",
    "    sns.set(rc={\"figure.figsize\": (30, 15)})\n",
    "    sns.set_theme(style=\"whitegrid\")\n",
    "    fig, axs = plt.subplots(nrows=2, ncols=3)\n",
    "    fig.tight_layout(pad=10)\n",
    "    cur_data = (\n",
    "        data[(data.WELL == well) & filter_all(data)]\n",
    "        .fillna(0)\n",
    "        .reset_index()[columns + [\"DATE\"]]\n",
    "    )\n",
    "    for i, c in enumerate(columns[:5]):\n",
    "        row = i // 3\n",
    "        col = i % 3\n",
    "        ax = sns.scatterplot(cur_data, x=\"DATE\", y=c, label=c, ax=axs[row][col])\n",
    "        sns.lineplot(cur_data, x=\"DATE\", y=c, label=c, ax=axs[row][col])\n",
    "        ax.legend(loc=\"upper left\", bbox_to_anchor=(1, 0.5))\n",
    "        ax.set(xlabel=f\"DATE\", ylabel=c)\n",
    "        ax.title.set_text(c)\n",
    "    for c in columns[5:]:\n",
    "        ax = sns.scatterplot(cur_data, x=\"DATE\", y=c, label=c, ax=axs[1][2])\n",
    "        sns.lineplot(cur_data, x=\"DATE\", y=c, label=c, ax=axs[1][2])\n",
    "        ax.legend(loc=\"upper left\", bbox_to_anchor=(1, 0.5))\n",
    "        ax.set(xlabel=f\"DATE\", ylabel=\" & \".join(columns[5:]))\n",
    "        ax.title.set_text(\" & \".join(columns[5:]))\n",
    "    plt.savefig(f\"images/{name_prefix}six_plots_{well}.jpg\")\n",
    "    plt.clf()\n",
    "\n",
    "\n",
    "def draw_prod_rate(data, well, name_prefix=\"\"):\n",
    "    columns = [\"WLPROD\", \"WWPROD\", \"WOPROD\", \"GOR\"]\n",
    "    sns.set(rc={\"figure.figsize\": (30, 15)})\n",
    "    sns.set_theme(style=\"whitegrid\")\n",
    "    fig, axs = plt.subplots(nrows=2, ncols=2)\n",
    "    fig.tight_layout(pad=10)\n",
    "    cur_data = (\n",
    "        data[(data.WELL == well) & filter_all(data)]\n",
    "        .fillna(0)\n",
    "        .reset_index()[columns + [\"DATE\"]]\n",
    "    )\n",
    "    for i, c in enumerate(columns):\n",
    "        row = i // 2\n",
    "        col = i % 2\n",
    "        ax = sns.scatterplot(cur_data, x=\"DATE\", y=c, label=c, ax=axs[row][col])\n",
    "        sns.lineplot(cur_data, x=\"DATE\", y=c, label=c, ax=axs[row][col])\n",
    "        ax.legend(loc=\"upper left\", bbox_to_anchor=(1, 0.5))\n",
    "        ax.set(xlabel=f\"DATE\", ylabel=c)\n",
    "        ax.title.set_text(c)\n",
    "    plt.savefig(f\"images/{name_prefix}prod_rate_{well}.jpg\")\n",
    "    plt.clf()"
   ]
  },
  {
   "cell_type": "code",
   "execution_count": null,
   "id": "c9354a07",
   "metadata": {},
   "outputs": [],
   "source": [
    "data = pd.read_excel(\"./data/Исходник_для_аномалий.xlsx\", decimal=\".\")\n",
    "columns = [\"WWPR\", \"WOPR\", \"WGPR\", \"WBHP\", \"WTHP\", \"WGIR\", \"WWIR\"]\n",
    "for c in columns + [\"WEFAC\"]:\n",
    "    if data[c].dtype == \"O\":\n",
    "        data[c] = pd.Series(\n",
    "            data[c].astype(str).apply(lambda x: x.replace(\",\", \".\")).astype(\"float64\")\n",
    "        )\n",
    "data"
   ]
  },
  {
   "cell_type": "code",
   "execution_count": null,
   "id": "233227aa",
   "metadata": {},
   "outputs": [],
   "source": [
    "data[\"WLPROD\"] = (data[\"WWPR\"] + data[\"WOPR\"]) / (180 - data[\"WBHP\"])\n",
    "data[\"WWPROD\"] = (data[\"WWPR\"]) / (180 - data[\"WBHP\"])\n",
    "data[\"WOPROD\"] = (data[\"WOPR\"]) / (180 - data[\"WBHP\"])\n",
    "data[\"GOR\"] = (data[\"WGPR\"]) / (data[\"WOPR\"])\n",
    "data"
   ]
  },
  {
   "cell_type": "markdown",
   "id": "5c1f273f",
   "metadata": {},
   "source": [
    "### Draw scaled and absolute"
   ]
  },
  {
   "cell_type": "code",
   "execution_count": null,
   "id": "12f25053",
   "metadata": {},
   "outputs": [],
   "source": [
    "for well in tqdm(np.unique(data.WELL)):\n",
    "    draw_scaled(data, well)"
   ]
  },
  {
   "cell_type": "code",
   "execution_count": null,
   "id": "76be62b2",
   "metadata": {},
   "outputs": [],
   "source": [
    "for well in tqdm(np.unique(data.WELL)):\n",
    "    draw_sub(data, well)"
   ]
  },
  {
   "cell_type": "markdown",
   "id": "56c6320b",
   "metadata": {},
   "source": [
    "## Draw prod rate"
   ]
  },
  {
   "cell_type": "code",
   "execution_count": null,
   "id": "5f474e4c",
   "metadata": {},
   "outputs": [],
   "source": [
    "for well in tqdm(np.unique(data.WELL)):\n",
    "    draw_prod_rate(data, well, name_prefix=\"\")"
   ]
  },
  {
   "cell_type": "markdown",
   "id": "845f9506",
   "metadata": {},
   "source": [
    "## Try sliding window"
   ]
  },
  {
   "cell_type": "code",
   "execution_count": null,
   "id": "e709bd1c",
   "metadata": {},
   "outputs": [],
   "source": [
    "def slided(data, window=3):\n",
    "    data = data.copy(deep=True)\n",
    "    columns = [\"WWPR\", \"WOPR\", \"WGPR\", \"WGIR\", \"WWIR\", \"WBHP\", \"WTHP\"]\n",
    "    for well in tqdm(np.unique(data.WELL)):\n",
    "        indexes = (data.WELL == well) & filter_all(data)\n",
    "        cur_data = data[indexes].fillna(0)\n",
    "        for i, c in enumerate(columns):\n",
    "            data.loc[indexes, [c]] = list(\n",
    "                cur_data[c].rolling(window, min_periods=1, center=True).mean()\n",
    "            )\n",
    "    return data\n",
    "\n",
    "\n",
    "def sub(data, data_slided):\n",
    "    data = data.copy(deep=True)\n",
    "    columns = [\"WWPR\", \"WOPR\", \"WGPR\", \"WGIR\", \"WWIR\", \"WBHP\", \"WTHP\"]\n",
    "    data.loc[:, columns] = data.loc[:, columns] - data_slided7.loc[:, columns]\n",
    "    return data"
   ]
  },
  {
   "cell_type": "code",
   "execution_count": null,
   "id": "fe38703b",
   "metadata": {},
   "outputs": [],
   "source": [
    "data_slided7 = slided(data, window=7)\n",
    "for well in tqdm(np.unique(data.WELL)):\n",
    "    draw_sub(data_slided7, well, name_prefix=\"slided_7_\")"
   ]
  },
  {
   "cell_type": "code",
   "execution_count": null,
   "id": "cf1fd26b",
   "metadata": {},
   "outputs": [],
   "source": [
    "data_sub7 = sub(data, data_slided7)\n",
    "for well in tqdm(np.unique(data.WELL)):\n",
    "    draw_sub(data_sub7, well, name_prefix=\"sub_7_\")"
   ]
  },
  {
   "cell_type": "code",
   "execution_count": null,
   "id": "7aebe007",
   "metadata": {},
   "outputs": [],
   "source": [
    "data_slided3 = slided(data, window=3)\n",
    "for well in tqdm(np.unique(data.WELL)):\n",
    "    draw_sub(data_slided3, well, name_prefix=\"slided_3_\")"
   ]
  },
  {
   "cell_type": "code",
   "execution_count": null,
   "id": "bc62df9b",
   "metadata": {},
   "outputs": [],
   "source": [
    "data_sub3 = sub(data, data_slided3)\n",
    "for well in tqdm(np.unique(data.WELL)):\n",
    "    draw_sub(data_sub3, well, name_prefix=\"sub_3_\")"
   ]
  },
  {
   "cell_type": "code",
   "execution_count": null,
   "id": "877f29ac",
   "metadata": {},
   "outputs": [],
   "source": []
  }
 ],
 "metadata": {
  "kernelspec": {
   "display_name": "Python 3 (ipykernel)",
   "language": "python",
   "name": "python3"
  },
  "language_info": {
   "codemirror_mode": {
    "name": "ipython",
    "version": 3
   },
   "file_extension": ".py",
   "mimetype": "text/x-python",
   "name": "python",
   "nbconvert_exporter": "python",
   "pygments_lexer": "ipython3",
   "version": "3.8.12"
  }
 },
 "nbformat": 4,
 "nbformat_minor": 5
}
