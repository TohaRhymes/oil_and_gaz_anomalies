{
 "cells": [
  {
   "cell_type": "code",
   "execution_count": 132,
   "id": "d23e6c5a",
   "metadata": {},
   "outputs": [],
   "source": [
    "import seaborn as sns\n",
    "import matplotlib.pyplot as plt\n",
    "import pandas as pd\n",
    "import numpy as np\n",
    "from tqdm import tqdm\n",
    "\n",
    "import os\n",
    "\n",
    "\n",
    "from sklearn.cluster import DBSCAN\n",
    "from sklearn.neighbors import LocalOutlierFactor\n",
    "from sklearn.linear_model import LinearRegression\n",
    "\n",
    "\n",
    "def filter_ones(data):\n",
    "    return data.WEFAC == 1\n",
    "\n",
    "\n",
    "def filter_more_than_zero(data):\n",
    "    return data.WEFAC > 0\n",
    "\n",
    "\n",
    "def filter_all(data):\n",
    "    return data.WEFAC >= 0\n",
    "\n",
    "\n",
    "def filter_zeros(data):\n",
    "    return data.WEFAC == 0\n",
    "\n",
    "\n",
    "def highlight_points_on_lineplot(data, x, y, points, marker=\"o\", color=\"red\", ax=None):\n",
    "    data = data.copy(deep=True)\n",
    "    # Строим график линии\n",
    "    sns.lineplot(x=x, y=y, data=data, ax=ax)\n",
    "    # Добавляем маркеры для каждой выбранной точки\n",
    "    data = data[points]\n",
    "    #     sns.scatterplot(data = pd.DataFrame({'x':[1,2,3], 'y':[2,5,6]}), x='x', y='y', marker=\"o\", color=\"red\")\n",
    "    for point in data[x]:\n",
    "        sns.scatterplot(\n",
    "            data=pd.DataFrame({\"x\": point, \"y\": data.loc[data[x] == point, y]}),\n",
    "            x=\"x\",\n",
    "            y=\"y\",\n",
    "            marker=marker,\n",
    "            color=color,\n",
    "            ax=ax,\n",
    "        )\n",
    "        ax.set(xlabel=x, ylabel=y)\n",
    "        ax.xaxis.get_label().set_fontsize(20)\n",
    "        ax.yaxis.get_label().set_fontsize(20)\n",
    "    # Отображаем график\n",
    "\n",
    "\n",
    "#     plt.show()\n",
    "\n",
    "\n",
    "def find_group_dbscan(arr, eps=0.5, min_samples=5):\n",
    "    # Создаем объект DBSCAN\n",
    "    dbscan = DBSCAN(eps=eps, min_samples=min_samples)\n",
    "    # Преобразуем массив в двумерный формат\n",
    "    X = arr.reshape(-1, 1)\n",
    "    # Обучаем модель\n",
    "    dbscan.fit(X)\n",
    "    # Находим номера кластеров\n",
    "    labels = dbscan.labels_ - np.min(dbscan.labels_)\n",
    "    # Находим номер кластера, содержащего наибольшее количество точек\n",
    "    largest_cluster = np.argmax(np.bincount(labels))\n",
    "    # Находим индексы точек, которые не принадлежат этому кластеру\n",
    "    outliers = labels != largest_cluster\n",
    "    return outliers\n",
    "\n",
    "\n",
    "def find_outliers_quartile(data):\n",
    "    q1, q3 = np.percentile(data, [25, 75])\n",
    "    iqr = q3 - q1\n",
    "    lower_bound = q1 - 1.5 * iqr\n",
    "    upper_bound = q3 + 1.5 * iqr\n",
    "    outliers = (data < lower_bound) | (data > upper_bound)\n",
    "    return outliers\n",
    "\n",
    "\n",
    "def find_outliers_lof(data, n=5):\n",
    "    lof = LocalOutlierFactor(n_neighbors=n)\n",
    "    outliers = lof.fit_predict(data.reshape(-1, 1))\n",
    "    return outliers == -1\n",
    "\n",
    "\n",
    "def find_trend_change_lr(data, threshold=0.4):\n",
    "    indexes = np.full(len(data), False)\n",
    "    x = np.arange(len(data)).reshape(-1, 1)\n",
    "    prev_model = LinearRegression().fit(x[:2], data[:2])\n",
    "    for i in range(2, len(data)):\n",
    "        model = LinearRegression().fit(x[:i], data[:i])\n",
    "        if np.abs(model.coef_ - prev_model.coef_) > threshold * np.abs(\n",
    "            prev_model.coef_\n",
    "        ):\n",
    "            indexes[i - 1] = True\n",
    "            prev_model = model\n",
    "    return indexes\n",
    "\n",
    "\n",
    "def find_trend_change_slide(data, window_size=5, threshold=0.5):\n",
    "    ma1 = np.convolve(data, np.ones(window_size) / window_size, mode=\"same\")\n",
    "    ma2 = np.convolve(\n",
    "        data, np.ones(2 * window_size + 1) / (2 * window_size + 1), mode=\"same\"\n",
    "    )\n",
    "    diff = np.abs(ma1 - ma2)\n",
    "    change_points = diff > threshold\n",
    "    return change_points\n",
    "\n",
    "\n",
    "def find_plateau(data):\n",
    "    def change_false_to_true(array):\n",
    "        for i in range(len(array) - 1):\n",
    "            if array[i] == False and array[i + 1] == True:\n",
    "                array[i] = True\n",
    "        return array\n",
    "\n",
    "    diffs = np.abs(np.diff(data))\n",
    "    plateau_positions = [False] + list(diffs == 0)\n",
    "    #     return change_false_to_true(plateau_positions)\n",
    "    return plateau_positions\n",
    "\n",
    "\n",
    "def find_zeros(data):\n",
    "    plateau_positions = list(data == 0)\n",
    "    return plateau_positions\n",
    "\n",
    "\n",
    "def find_large_changes(arr, window_size=6, threshold=2):\n",
    "    \"\"\"\n",
    "    Функция для поиска значений в массиве, когда изменение было больше в два раза,\n",
    "    чем предыдущие 5 изменений\n",
    "\n",
    "    Parameters:\n",
    "    arr (numpy.ndarray): Входной массив значений\n",
    "\n",
    "    Returns:\n",
    "    numpy.ndarray: Массив индексов значений, когда изменение было больше в два раза\n",
    "    \"\"\"\n",
    "    # Создаем скользящее окно размера 6\n",
    "    window = np.zeros(window_size)\n",
    "    # Заполняем первые 5 элементов окна разностями между значениями\n",
    "    # массива (текущее значение - предыдущее значение)\n",
    "    window[: window_size - 1] = np.diff(arr[:window_size])\n",
    "    # Создаем пустой массив для хранения индексов аномальных значений\n",
    "    indexes = np.full(len(data), False)\n",
    "    # Проходим по всем оставшимся элементам массива\n",
    "    for i in range(window_size, len(arr)):\n",
    "        # Вычисляем разность между текущим и предыдущим значением\n",
    "        diff = arr[i] - arr[i - 1]\n",
    "        # Добавляем эту разность в окно\n",
    "        window[-1] = diff\n",
    "        # Вычисляем среднюю разность в окне (исключая последнее значение)\n",
    "        mean = np.mean(window[:-1])\n",
    "        # Проверяем, насколько текущая разность отличается от средней разности\n",
    "        # Если отличие больше чем в два раза, считаем это значение аномалией\n",
    "        print(mean, diff, arr[i], arr[i - 1])\n",
    "        if np.abs(diff) >= np.abs(mean) * threshold:\n",
    "            indexes[i] = True\n",
    "        # Сдвигаем окно вправо\n",
    "        window[:-1] = window[1:]\n",
    "    # Преобразуем список аномальных индексов в массив и возвращаем его\n",
    "    return np.array(indexes)\n",
    "\n",
    "\n",
    "def slide_aggregate(\n",
    "    data, window=100, method=find_group_dbscan, param_set=dict(), threshold=0.5\n",
    "):\n",
    "    cur_window = min(len(data), window)\n",
    "    outliers_check = np.full((len(data) - cur_window + 1, len(data)), np.nan)\n",
    "    for i in range(len(outliers_check)):\n",
    "        predict = method(data[i : i + cur_window], **param_set)\n",
    "        outliers_check[i][i : i + cur_window] = predict\n",
    "    predicted_outliers = np.nansum(outliers_check, axis=0)\n",
    "    total_predictions = np.count_nonzero(~np.isnan(outliers_check), axis=0)\n",
    "    percentage = predicted_outliers / total_predictions\n",
    "    return percentage > threshold"
   ]
  },
  {
   "cell_type": "code",
   "execution_count": 131,
   "id": "581f78ef",
   "metadata": {},
   "outputs": [],
   "source": [
    "def preprocess(data):\n",
    "    data = data.copy(deep=True)\n",
    "    columns = [\"WWPR\", \"WOPR\", \"WGPR\", \"WBHP\", \"WTHP\", \"WGIR\", \"WWIR\"]\n",
    "    for c in columns + [\"WEFAC\"]:\n",
    "        if data[c].dtype == \"O\":\n",
    "            data[c] = pd.Series(\n",
    "                data[c].astype(str).apply(lambda x: x.replace(\",\", \".\")).astype(\"float64\")\n",
    "            )\n",
    "    data[\"WLPROD\"] = (data[\"WWPR\"] + data[\"WOPR\"]) / (180 - data[\"WBHP\"])\n",
    "    data[\"WWPROD\"] = (data[\"WWPR\"]) / (180 - data[\"WBHP\"])\n",
    "    data[\"WOPROD\"] = (data[\"WOPR\"]) / (180 - data[\"WBHP\"])\n",
    "    data[\"GOR\"] = (data[\"WGPR\"]) / (data[\"WOPR\"])\n",
    "    return data\n",
    "\n",
    "columns = [\"WOPR\", \"WWPR\", \"WGPR\", \"WOPROD\", \"WLPROD\", \"GOR\"]\n",
    "functions = {\n",
    "    \"dbscan\": find_group_dbscan,\n",
    "    \"quartiles\": find_outliers_quartile,\n",
    "    \"LOF_method\": find_outliers_lof,\n",
    "    \"sliding\": find_trend_change_slide,\n",
    "    \"plateau\": find_plateau,\n",
    "    \"zeros\": find_zeros,\n",
    "}\n",
    "fun_names = {\n",
    "    \"dbscan\": \"DBSCAN\",\n",
    "    \"quartiles\": \"Метод Квартилей\",\n",
    "    \"LOF_method\": \"Локальный уровень выброса\",\n",
    "    \"sliding\": \"Скользящее окно\",\n",
    "    \"plateau\": \"Определение плато\",\n",
    "    \"zeros\": \"Нули\",\n",
    "}\n",
    "params = [\n",
    "    dict(),\n",
    "    dict(),\n",
    "    {\"n\": 30},\n",
    "    {\"window_size\": 20, \"threshold\": 0.4},\n",
    "    dict(),\n",
    "    dict(),\n",
    "]"
   ]
  },
  {
   "cell_type": "code",
   "execution_count": 139,
   "id": "41680988",
   "metadata": {},
   "outputs": [
    {
     "name": "stdout",
     "output_type": "stream",
     "text": [
      "Working with Групповой вылет по воде.xlsx!\n",
      "Working with well #78!\n"
     ]
    },
    {
     "name": "stderr",
     "output_type": "stream",
     "text": [
      " 17%|███████▌                                     | 1/6 [00:12<01:00, 12.14s/it]"
     ]
    },
    {
     "name": "stdout",
     "output_type": "stream",
     "text": [
      "dbscan  done!\n"
     ]
    },
    {
     "name": "stderr",
     "output_type": "stream",
     "text": [
      "\r",
      " 33%|███████████████                              | 2/6 [00:14<00:25,  6.32s/it]"
     ]
    },
    {
     "name": "stdout",
     "output_type": "stream",
     "text": [
      "quartiles  done!\n"
     ]
    },
    {
     "name": "stderr",
     "output_type": "stream",
     "text": [
      "\r",
      " 50%|██████████████████████▌                      | 3/6 [00:19<00:16,  5.66s/it]"
     ]
    },
    {
     "name": "stdout",
     "output_type": "stream",
     "text": [
      "LOF_method  done!\n"
     ]
    },
    {
     "name": "stderr",
     "output_type": "stream",
     "text": [
      "\r",
      " 67%|██████████████████████████████               | 4/6 [00:35<00:19,  9.84s/it]"
     ]
    },
    {
     "name": "stdout",
     "output_type": "stream",
     "text": [
      "sliding  done!\n"
     ]
    },
    {
     "name": "stderr",
     "output_type": "stream",
     "text": [
      "\r",
      " 83%|█████████████████████████████████████▌       | 5/6 [00:56<00:13, 13.92s/it]"
     ]
    },
    {
     "name": "stdout",
     "output_type": "stream",
     "text": [
      "plateau  done!\n"
     ]
    },
    {
     "name": "stderr",
     "output_type": "stream",
     "text": [
      "100%|█████████████████████████████████████████████| 6/6 [00:58<00:00,  9.78s/it]\n"
     ]
    },
    {
     "name": "stdout",
     "output_type": "stream",
     "text": [
      "zeros  done!\n",
      "Working with Одиночный вылет по воде.xlsx!\n",
      "Working with well #78!\n"
     ]
    },
    {
     "name": "stderr",
     "output_type": "stream",
     "text": [
      " 17%|███████▌                                     | 1/6 [00:07<00:35,  7.13s/it]"
     ]
    },
    {
     "name": "stdout",
     "output_type": "stream",
     "text": [
      "dbscan  done!\n"
     ]
    },
    {
     "name": "stderr",
     "output_type": "stream",
     "text": [
      "\r",
      " 33%|███████████████                              | 2/6 [00:08<00:14,  3.62s/it]"
     ]
    },
    {
     "name": "stdout",
     "output_type": "stream",
     "text": [
      "quartiles  done!\n"
     ]
    },
    {
     "name": "stderr",
     "output_type": "stream",
     "text": [
      "\r",
      " 50%|██████████████████████▌                      | 3/6 [00:10<00:09,  3.15s/it]"
     ]
    },
    {
     "name": "stdout",
     "output_type": "stream",
     "text": [
      "LOF_method  done!\n"
     ]
    },
    {
     "name": "stderr",
     "output_type": "stream",
     "text": [
      "\r",
      " 67%|██████████████████████████████               | 4/6 [00:21<00:12,  6.05s/it]"
     ]
    },
    {
     "name": "stdout",
     "output_type": "stream",
     "text": [
      "sliding  done!\n"
     ]
    },
    {
     "name": "stderr",
     "output_type": "stream",
     "text": [
      "\r",
      " 83%|█████████████████████████████████████▌       | 5/6 [00:35<00:09,  9.08s/it]"
     ]
    },
    {
     "name": "stdout",
     "output_type": "stream",
     "text": [
      "plateau  done!\n"
     ]
    },
    {
     "name": "stderr",
     "output_type": "stream",
     "text": [
      "100%|█████████████████████████████████████████████| 6/6 [00:36<00:00,  6.10s/it]\n"
     ]
    },
    {
     "name": "stdout",
     "output_type": "stream",
     "text": [
      "zeros  done!\n",
      "Working with ГТМ_54.xlsx!\n",
      "Working with well #54!\n"
     ]
    },
    {
     "name": "stderr",
     "output_type": "stream",
     "text": [
      " 17%|███████▌                                     | 1/6 [00:02<00:11,  2.27s/it]"
     ]
    },
    {
     "name": "stdout",
     "output_type": "stream",
     "text": [
      "dbscan  done!\n"
     ]
    },
    {
     "name": "stderr",
     "output_type": "stream",
     "text": [
      "\r",
      " 33%|███████████████                              | 2/6 [00:03<00:06,  1.56s/it]"
     ]
    },
    {
     "name": "stdout",
     "output_type": "stream",
     "text": [
      "quartiles  done!\n"
     ]
    },
    {
     "name": "stderr",
     "output_type": "stream",
     "text": [
      "\r",
      " 50%|██████████████████████▌                      | 3/6 [00:05<00:05,  1.82s/it]"
     ]
    },
    {
     "name": "stdout",
     "output_type": "stream",
     "text": [
      "LOF_method  done!\n"
     ]
    },
    {
     "name": "stderr",
     "output_type": "stream",
     "text": [
      "\r",
      " 67%|██████████████████████████████               | 4/6 [00:09<00:05,  2.84s/it]"
     ]
    },
    {
     "name": "stdout",
     "output_type": "stream",
     "text": [
      "sliding  done!\n"
     ]
    },
    {
     "name": "stderr",
     "output_type": "stream",
     "text": [
      "\r",
      " 83%|█████████████████████████████████████▌       | 5/6 [00:14<00:03,  3.54s/it]"
     ]
    },
    {
     "name": "stdout",
     "output_type": "stream",
     "text": [
      "plateau  done!\n"
     ]
    },
    {
     "name": "stderr",
     "output_type": "stream",
     "text": [
      "100%|█████████████████████████████████████████████| 6/6 [00:15<00:00,  2.60s/it]\n"
     ]
    },
    {
     "name": "stdout",
     "output_type": "stream",
     "text": [
      "zeros  done!\n",
      "Working with ГТМ_84.xlsx!\n",
      "Working with well #78!\n"
     ]
    },
    {
     "name": "stderr",
     "output_type": "stream",
     "text": [
      " 17%|███████▌                                     | 1/6 [00:03<00:18,  3.70s/it]"
     ]
    },
    {
     "name": "stdout",
     "output_type": "stream",
     "text": [
      "dbscan  done!\n"
     ]
    },
    {
     "name": "stderr",
     "output_type": "stream",
     "text": [
      "\r",
      " 33%|███████████████                              | 2/6 [00:04<00:07,  1.94s/it]"
     ]
    },
    {
     "name": "stdout",
     "output_type": "stream",
     "text": [
      "quartiles  done!\n"
     ]
    },
    {
     "name": "stderr",
     "output_type": "stream",
     "text": [
      "/tmp/ipykernel_15419/100142479.py:25: RuntimeWarning: More than 20 figures have been opened. Figures created through the pyplot interface (`matplotlib.pyplot.figure`) are retained until explicitly closed and may consume too much memory. (To control this warning, see the rcParam `figure.max_open_warning`).\n",
      "  fig, axs = plt.subplots(nrows=2, ncols=3)\n",
      " 50%|██████████████████████▌                      | 3/6 [00:06<00:06,  2.02s/it]"
     ]
    },
    {
     "name": "stdout",
     "output_type": "stream",
     "text": [
      "LOF_method  done!\n"
     ]
    },
    {
     "name": "stderr",
     "output_type": "stream",
     "text": [
      "\r",
      " 67%|██████████████████████████████               | 4/6 [00:11<00:06,  3.22s/it]"
     ]
    },
    {
     "name": "stdout",
     "output_type": "stream",
     "text": [
      "sliding  done!\n"
     ]
    },
    {
     "name": "stderr",
     "output_type": "stream",
     "text": [
      "\r",
      " 83%|█████████████████████████████████████▌       | 5/6 [00:18<00:04,  4.64s/it]"
     ]
    },
    {
     "name": "stdout",
     "output_type": "stream",
     "text": [
      "plateau  done!\n"
     ]
    },
    {
     "name": "stderr",
     "output_type": "stream",
     "text": [
      "100%|█████████████████████████████████████████████| 6/6 [00:19<00:00,  3.26s/it]\n"
     ]
    },
    {
     "name": "stdout",
     "output_type": "stream",
     "text": [
      "zeros  done!\n",
      "Working with well #84!\n"
     ]
    },
    {
     "name": "stderr",
     "output_type": "stream",
     "text": [
      " 17%|███████▌                                     | 1/6 [00:04<00:22,  4.52s/it]"
     ]
    },
    {
     "name": "stdout",
     "output_type": "stream",
     "text": [
      "dbscan  done!\n"
     ]
    },
    {
     "name": "stderr",
     "output_type": "stream",
     "text": [
      "\r",
      " 33%|███████████████                              | 2/6 [00:05<00:09,  2.29s/it]"
     ]
    },
    {
     "name": "stdout",
     "output_type": "stream",
     "text": [
      "quartiles  done!\n"
     ]
    },
    {
     "name": "stderr",
     "output_type": "stream",
     "text": [
      "\r",
      " 50%|██████████████████████▌                      | 3/6 [00:07<00:07,  2.38s/it]"
     ]
    },
    {
     "name": "stdout",
     "output_type": "stream",
     "text": [
      "LOF_method  done!\n"
     ]
    },
    {
     "name": "stderr",
     "output_type": "stream",
     "text": [
      "\r",
      " 67%|██████████████████████████████               | 4/6 [00:14<00:08,  4.03s/it]"
     ]
    },
    {
     "name": "stdout",
     "output_type": "stream",
     "text": [
      "sliding  done!\n"
     ]
    },
    {
     "name": "stderr",
     "output_type": "stream",
     "text": [
      "\r",
      " 83%|█████████████████████████████████████▌       | 5/6 [00:21<00:05,  5.28s/it]"
     ]
    },
    {
     "name": "stdout",
     "output_type": "stream",
     "text": [
      "plateau  done!\n"
     ]
    },
    {
     "name": "stderr",
     "output_type": "stream",
     "text": [
      "100%|█████████████████████████████████████████████| 6/6 [00:22<00:00,  3.79s/it]"
     ]
    },
    {
     "name": "stdout",
     "output_type": "stream",
     "text": [
      "zeros  done!\n"
     ]
    },
    {
     "name": "stderr",
     "output_type": "stream",
     "text": [
      "\n"
     ]
    },
    {
     "data": {
      "text/plain": [
       "<Figure size 2160x1080 with 0 Axes>"
      ]
     },
     "metadata": {},
     "output_type": "display_data"
    },
    {
     "data": {
      "text/plain": [
       "<Figure size 2160x1080 with 0 Axes>"
      ]
     },
     "metadata": {},
     "output_type": "display_data"
    },
    {
     "data": {
      "text/plain": [
       "<Figure size 2160x1080 with 0 Axes>"
      ]
     },
     "metadata": {},
     "output_type": "display_data"
    },
    {
     "data": {
      "text/plain": [
       "<Figure size 2160x1080 with 0 Axes>"
      ]
     },
     "metadata": {},
     "output_type": "display_data"
    },
    {
     "data": {
      "text/plain": [
       "<Figure size 2160x1080 with 0 Axes>"
      ]
     },
     "metadata": {},
     "output_type": "display_data"
    },
    {
     "data": {
      "text/plain": [
       "<Figure size 2160x1080 with 0 Axes>"
      ]
     },
     "metadata": {},
     "output_type": "display_data"
    },
    {
     "data": {
      "text/plain": [
       "<Figure size 2160x1080 with 0 Axes>"
      ]
     },
     "metadata": {},
     "output_type": "display_data"
    },
    {
     "data": {
      "text/plain": [
       "<Figure size 2160x1080 with 0 Axes>"
      ]
     },
     "metadata": {},
     "output_type": "display_data"
    },
    {
     "data": {
      "text/plain": [
       "<Figure size 2160x1080 with 0 Axes>"
      ]
     },
     "metadata": {},
     "output_type": "display_data"
    },
    {
     "data": {
      "text/plain": [
       "<Figure size 2160x1080 with 0 Axes>"
      ]
     },
     "metadata": {},
     "output_type": "display_data"
    },
    {
     "data": {
      "text/plain": [
       "<Figure size 2160x1080 with 0 Axes>"
      ]
     },
     "metadata": {},
     "output_type": "display_data"
    },
    {
     "data": {
      "text/plain": [
       "<Figure size 2160x1080 with 0 Axes>"
      ]
     },
     "metadata": {},
     "output_type": "display_data"
    },
    {
     "data": {
      "text/plain": [
       "<Figure size 2160x1080 with 0 Axes>"
      ]
     },
     "metadata": {},
     "output_type": "display_data"
    },
    {
     "data": {
      "text/plain": [
       "<Figure size 2160x1080 with 0 Axes>"
      ]
     },
     "metadata": {},
     "output_type": "display_data"
    },
    {
     "data": {
      "text/plain": [
       "<Figure size 2160x1080 with 0 Axes>"
      ]
     },
     "metadata": {},
     "output_type": "display_data"
    },
    {
     "data": {
      "text/plain": [
       "<Figure size 2160x1080 with 0 Axes>"
      ]
     },
     "metadata": {},
     "output_type": "display_data"
    },
    {
     "data": {
      "text/plain": [
       "<Figure size 2160x1080 with 0 Axes>"
      ]
     },
     "metadata": {},
     "output_type": "display_data"
    },
    {
     "data": {
      "text/plain": [
       "<Figure size 2160x1080 with 0 Axes>"
      ]
     },
     "metadata": {},
     "output_type": "display_data"
    },
    {
     "data": {
      "text/plain": [
       "<Figure size 2160x1080 with 0 Axes>"
      ]
     },
     "metadata": {},
     "output_type": "display_data"
    },
    {
     "data": {
      "text/plain": [
       "<Figure size 2160x1080 with 0 Axes>"
      ]
     },
     "metadata": {},
     "output_type": "display_data"
    },
    {
     "data": {
      "text/plain": [
       "<Figure size 2160x1080 with 0 Axes>"
      ]
     },
     "metadata": {},
     "output_type": "display_data"
    },
    {
     "data": {
      "text/plain": [
       "<Figure size 2160x1080 with 0 Axes>"
      ]
     },
     "metadata": {},
     "output_type": "display_data"
    },
    {
     "data": {
      "text/plain": [
       "<Figure size 2160x1080 with 0 Axes>"
      ]
     },
     "metadata": {},
     "output_type": "display_data"
    },
    {
     "data": {
      "text/plain": [
       "<Figure size 2160x1080 with 0 Axes>"
      ]
     },
     "metadata": {},
     "output_type": "display_data"
    },
    {
     "data": {
      "text/plain": [
       "<Figure size 2160x1080 with 0 Axes>"
      ]
     },
     "metadata": {},
     "output_type": "display_data"
    },
    {
     "data": {
      "text/plain": [
       "<Figure size 2160x1080 with 0 Axes>"
      ]
     },
     "metadata": {},
     "output_type": "display_data"
    },
    {
     "data": {
      "text/plain": [
       "<Figure size 2160x1080 with 0 Axes>"
      ]
     },
     "metadata": {},
     "output_type": "display_data"
    },
    {
     "data": {
      "text/plain": [
       "<Figure size 2160x1080 with 0 Axes>"
      ]
     },
     "metadata": {},
     "output_type": "display_data"
    },
    {
     "data": {
      "text/plain": [
       "<Figure size 2160x1080 with 0 Axes>"
      ]
     },
     "metadata": {},
     "output_type": "display_data"
    },
    {
     "data": {
      "text/plain": [
       "<Figure size 2160x1080 with 0 Axes>"
      ]
     },
     "metadata": {},
     "output_type": "display_data"
    }
   ],
   "source": [
    "data_dir = \"./data/Фактические-синтетические данные\"\n",
    "data_names = [\n",
    "    \"Групповой вылет по воде.xlsx\",\n",
    "    \"Одиночный вылет по воде.xlsx\",\n",
    "    \"ГТМ_54.xlsx\",\n",
    "    \"ГТМ_84.xlsx\",\n",
    "]\n",
    "for data_name in data_names:\n",
    "    print(f'Working with {data_name}!')\n",
    "    data_file = os.path.join(data_dir, data_name)\n",
    "    data = pd.read_excel(data_file, decimal=\".\")\n",
    "    data = preprocess(data)\n",
    "    for well in np.unique(data.WELL):\n",
    "        print(f'Working with well #{well}!')\n",
    "        cur_data = (\n",
    "            data[(data.WELL == well) & filter_all(data)]\n",
    "            .fillna(0)\n",
    "            .reset_index()[columns + [\"DATE\"]]\n",
    "        )    \n",
    "        for fun_name, param in tqdm(list(zip(functions, params))):\n",
    "            fun = functions[fun_name]\n",
    "            TITLE = f'Метод: {fun_names[fun_name]}'\n",
    "            sns.set(rc={\"figure.figsize\": (30, 15)})\n",
    "            sns.set_theme(style=\"whitegrid\")\n",
    "            fig, axs = plt.subplots(nrows=2, ncols=3)\n",
    "            fig.tight_layout(pad=5)\n",
    "            for i, column in enumerate(cols):\n",
    "                row = i // 3\n",
    "                col = i % 3\n",
    "                points = slide_aggregate(cur_data[column].to_numpy(), window=100, method=fun, param_set=param)\n",
    "                highlight_points_on_lineplot(cur_data, 'DATE', column, points, ax = axs[row][col])\n",
    "            fig.suptitle(TITLE, fontsize=25)\n",
    "            plt.savefig(f\"images/anomalies_{data_name.split('.')[0].replace(' ','_')}_{fun_name}_{well}.pdf\")\n",
    "            plt.clf()\n",
    "            print(fun_name, ' done!')"
   ]
  },
  {
   "cell_type": "code",
   "execution_count": null,
   "id": "04fb74ac",
   "metadata": {},
   "outputs": [],
   "source": []
  }
 ],
 "metadata": {
  "kernelspec": {
   "display_name": "Python 3 (ipykernel)",
   "language": "python",
   "name": "python3"
  },
  "language_info": {
   "codemirror_mode": {
    "name": "ipython",
    "version": 3
   },
   "file_extension": ".py",
   "mimetype": "text/x-python",
   "name": "python",
   "nbconvert_exporter": "python",
   "pygments_lexer": "ipython3",
   "version": "3.8.12"
  }
 },
 "nbformat": 4,
 "nbformat_minor": 5
}
